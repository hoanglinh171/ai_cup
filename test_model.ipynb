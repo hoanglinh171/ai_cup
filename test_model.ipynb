{
 "cells": [
  {
   "cell_type": "code",
   "execution_count": 2,
   "metadata": {},
   "outputs": [],
   "source": [
    "import warnings\n",
    "warnings.filterwarnings(\"ignore\")\n",
    "\n",
    "import pandas as pd\n",
    "import numpy as np\n",
    "import matplotlib.pyplot as plt\n",
    "import os\n",
    "\n",
    "import tensorflow as tf\n",
    "from tensorflow.keras.models import Sequential\n",
    "from tensorflow.keras.layers import Dense, Dropout, LSTM\n",
    "\n",
    "from sklearn.linear_model import LinearRegression\n",
    "from sklearn.preprocessing import MinMaxScaler\n",
    "\n",
    "import tqdm"
   ]
  },
  {
   "cell_type": "markdown",
   "metadata": {},
   "source": [
    "# Baseline model"
   ]
  },
  {
   "cell_type": "markdown",
   "metadata": {},
   "source": [
    "1. Train set: Use data from 7am - 17pm in train set\n",
    "2. Test set: To evaluate, only evaluate prediction from 9am - 17pm \n",
    "3. Impute missing for all data by linear interpolation, fill forward and backward\n",
    "4. Scale min max, fit train set\n",
    "5. Train features to predict their futures by LSTM\n",
    "6. Train features with response to predict response by Regression"
   ]
  },
  {
   "cell_type": "code",
   "execution_count": 10,
   "metadata": {},
   "outputs": [],
   "source": [
    "def impute_missing(data):\n",
    "    \"\"\"\n",
    "    data: DataFrame\n",
    "    \"\"\"\n",
    "\n",
    "    features = data.columns\n",
    "    for feature in features:\n",
    "        data[feature] = data[feature].interpolate(method='nearest', limit_direction='both')\n",
    "        data[feature] = data[feature].ffill()\n",
    "        data[feature] = data[feature].bfill()\n",
    "\n",
    "    return data\n",
    "\n",
    "\n",
    "def scale_min_max(fit_data):\n",
    "    \"\"\"\n",
    "    train_set, test_set: numpy array\n",
    "    \"\"\"\n",
    "    minmax_scaler = MinMaxScaler().fit(fit_data)\n",
    "    data_scaled = minmax_scaler.transform(fit_data)\n",
    "    # val_set_scaled = minmax_scaler.transform(val_set)\n",
    "    # test_set_scaled = minmax_scaler.transform(test_set)\n",
    "\n",
    "    return data_scaled, minmax_scaler\n",
    "\n",
    "\n",
    "def feature_differencing(time_feature, lag):\n",
    "    diff_feat = time_feature[:-lag]\n",
    "    diff_feat = np.append(diff_feat.values[:lag], diff_feat)\n",
    "    return diff_feat\n",
    "    \n",
    "    \n",
    "def add_features(data, time_col):\n",
    "    data['hour'] = pd.to_datetime(data[time_col]).dt.hour\n",
    "    \n",
    "    return data\n",
    "    \n",
    "    \n",
    "def window_data(data, look_back_num):\n",
    "    \"\"\"\n",
    "    data: numpy array\n",
    "    \"\"\"\n",
    "    X_train = []\n",
    "    y_train = []\n",
    "\n",
    "    # # input X, each look_back_num points is corresponding to 1 y (y dim is 5)\n",
    "    for i in range(look_back_num, data.shape[0]):\n",
    "        X_train.append(data[i-look_back_num:i, :])\n",
    "        y_train.append(data[i, :])\n",
    "\n",
    "    X_train = np.array(X_train)\n",
    "    y_train = np.array(y_train)\n",
    "    X_train = np.reshape(X_train, (X_train.shape[0], X_train.shape[1], data.shape[1]))  # num obs * time sequence length * num features\n",
    "\n",
    "    return X_train, y_train\n",
    "\n",
    "\n",
    "# Modelling\n",
    "\n",
    "def lstm_model(X_train, y_train, epochs, batch_size):\n",
    "    regressor = Sequential()\n",
    "    regressor.add(LSTM(units = 128, return_sequences = True, input_shape = (X_train.shape[1], X_train.shape[2])))  # each input is time sequence length * num features\n",
    "    regressor.add(LSTM(units = 64))\n",
    "    regressor.add(Dropout(0.2))\n",
    "\n",
    "    # output layer\n",
    "    regressor.add(Dense(units=y_train.shape[1]))\n",
    "    regressor.compile(optimizer='adam', loss='mean_squared_error', metrics=['mae'])\n",
    "    # regressor.summary()\n",
    "    history = regressor.fit(X_train, y_train, epochs = epochs, batch_size = batch_size, verbose=False)\n",
    "\n",
    "    return regressor, history\n",
    "\n",
    "def train_model(loc, look_back_num, epochs, batch_size):\n",
    "    ## LSTM\n",
    "\n",
    "    train_file = os.path.join(os.getcwd(), \"data/avg_data_10min_wh/loc_{i}/fold_4/train.csv\".format(i=loc))\n",
    "    train_set = pd.read_csv(train_file, encoding='utf-8')\n",
    "    train_set = add_features(train_set, 'DateTime')\n",
    "    train_set['power_lag1'] = feature_differencing(train_set['Power(mW)'], 1)\n",
    "    train_set['power_lag60'] = feature_differencing(train_set['Power(mW)'], 60)\n",
    "\n",
    "    features = ['hour', 'WindSpeed(m/s)','Pressure(hpa)','Temperature(°C)','Humidity(%)','Sunlight(Lux)', 'power_lag1', 'power_lag60', 'Power(mW)']\n",
    "    # features = ['Pressure(hpa)','Temperature(°C)','Humidity(%)','Sunlight(Lux)', 'Power(mW)']\n",
    "    X_features = features[:-1]\n",
    "    \n",
    "    # get log\n",
    "#     train_set[features[1:]] = np.log(train_set[features[1:]] + 1)\n",
    "    \n",
    "    train_imputed = impute_missing(train_set[features])\n",
    "    # print(np.sum(np.isnan(train_imputed)))\n",
    "    # train_imputed = train_set[features].dropna()\n",
    "    train_scaled, minmax_scaler = scale_min_max(train_imputed[X_features])\n",
    "    X_train, X_train_later = window_data(train_scaled, look_back_num)\n",
    "    regressor, history = lstm_model(X_train, X_train_later, epochs, batch_size)\n",
    "\n",
    "    ## Regression\n",
    "\n",
    "    y_train = np.log(train_imputed[['Power(mW)']] + 1)\n",
    "    lin_reg = LinearRegression(n_jobs=5)\n",
    "    lin_reg.fit(train_scaled, y_train)\n",
    "\n",
    "    return minmax_scaler, regressor, history, lin_reg"
   ]
  },
  {
   "cell_type": "code",
   "execution_count": 8,
   "metadata": {},
   "outputs": [],
   "source": [
    "def lstm_predict(model, forecast_num, look_back_num, X_test):\n",
    "    # Only apply for look_back_num = 12 and forecast_num = 48\n",
    "    predictions = []\n",
    "\n",
    "    i = 0\n",
    "    complete_day = (len(X_test) + look_back_num) // (forecast_num + look_back_num)\n",
    "    interval_left = (len(X_test) + look_back_num) % (forecast_num + look_back_num)\n",
    "    if (interval_left == 0): \n",
    "        count = forecast_num\n",
    "    else:\n",
    "        count = interval_left\n",
    "\n",
    "    while i < len(X_test) - count: \n",
    "        if i > forecast_num:\n",
    "            i += look_back_num\n",
    "\n",
    "        input_seq = X_test[i].reshape(1, X_test.shape[1], X_test.shape[2])\n",
    "        for _ in range(forecast_num):\n",
    "            next_pred = model.predict(input_seq, verbose=False)\n",
    "            predictions.append(next_pred[0])\n",
    "            input_seq = np.append(input_seq[:, 1:, :], [[next_pred[0]]], axis=1)\n",
    "        i += forecast_num\n",
    "\n",
    "    if (interval_left >= look_back_num):\n",
    "        predictions = np.array(predictions)[:(complete_day * forecast_num) + interval_left - look_back_num]\n",
    "    else:\n",
    "        predictions = np.array(predictions)[:(complete_day * forecast_num)]\n",
    "\n",
    "    return np.array(predictions)\n",
    "\n",
    "\n",
    "def predict_power(loc, look_back_num, forecast_num, lstm_regressor, lin_reg, minmax_scaler):\n",
    "    test_file = os.path.join(os.getcwd(), \"data/avg_data_10min_wh/loc_{i}/fold_4/test.csv\".format(i=loc))\n",
    "    test_set = pd.read_csv(test_file, encoding='utf-8')\n",
    "    test_set = add_features(test_set, 'DateTime')\n",
    "    test_set['power_lag1'] = feature_differencing(test_set['Power(mW)'], 1)\n",
    "    test_set['power_lag60'] = feature_differencing(test_set['Power(mW)'], 60)\n",
    "    test_set['is_missing'] = np.where(test_set['Power(mW)'].isna(), 1, 0)\n",
    "\n",
    "    features = ['hour', 'WindSpeed(m/s)','Pressure(hpa)','Temperature(°C)','Humidity(%)','Sunlight(Lux)', 'power_lag1', 'power_lag60', 'Power(mW)']\n",
    "    # features = ['Pressure(hpa)','Temperature(°C)','Humidity(%)','Sunlight(Lux)', 'Power(mW)']\n",
    "    X_features = features[:-1]\n",
    "    \n",
    "    # get log\n",
    "#     test_set[features[1:]] = np.log(test_set[features[1:]] + 1)\n",
    "    \n",
    "    test_imputed = impute_missing(test_set[features])\n",
    "    test_scaled = minmax_scaler.transform(test_imputed[X_features])\n",
    "    X_test, _ = window_data(test_scaled, look_back_num)\n",
    "    X_test_pred = lstm_predict(lstm_regressor, forecast_num, look_back_num, X_test)\n",
    "\n",
    "    X_test_true = pd.concat([test_set[['DateTime', 'is_missing']], test_imputed], axis=1)\n",
    "    hour_dt = pd.to_datetime(X_test_true[\"DateTime\"]).dt.time\n",
    "    X_test_true = X_test_true[(hour_dt >= pd.to_datetime(\"09:00\").time()) & \n",
    "                            (hour_dt < pd.to_datetime(\"17:00\").time())]\n",
    "    y_test = X_test_true['Power(mW)']\n",
    "    y_pred = lin_reg.predict(X_test_pred).reshape(y_test.shape[0])\n",
    "    y_pred = np.exp(y_pred) - 1\n",
    "#     y_test = np.exp(y_test) - 1\n",
    "\n",
    "    return X_test_true, X_test_pred, y_pred, y_test, X_test_true[['DateTime', 'is_missing']]\n"
   ]
  },
  {
   "cell_type": "code",
   "execution_count": 11,
   "metadata": {},
   "outputs": [
    {
     "name": "stdout",
     "output_type": "stream",
     "text": [
      "1\n",
      "MAE of location 1:  584.8243289244685\n",
      "2\n",
      "MAE of location 2:  384.79823260821973\n",
      "3\n",
      "MAE of location 3:  8272.282271244792\n",
      "4\n",
      "MAE of location 4:  496.2269042233052\n",
      "5\n",
      "MAE of location 5:  626.8938509066983\n",
      "6\n",
      "MAE of location 6:  577.3186986149711\n",
      "7\n",
      "MAE of location 7:  502.9252946319713\n",
      "8\n",
      "MAE of location 8:  111.72932886164932\n",
      "9\n",
      "MAE of location 9:  226.76037932409733\n",
      "10\n",
      "MAE of location 10:  453.0068513080092\n",
      "11\n",
      "MAE of location 11:  13.489464887912826\n",
      "12\n",
      "MAE of location 12:  540.1618548463009\n",
      "13\n",
      "MAE of location 13:  332.3446657965973\n",
      "14\n",
      "MAE of location 14:  401.9385159521915\n",
      "15\n",
      "MAE of location 15:  563.9633364293489\n",
      "16\n",
      "MAE of location 16:  585.1339582137106\n",
      "17\n",
      "MAE of location 17:  388.94145237378024\n"
     ]
    }
   ],
   "source": [
    "location_lst = range(1, 18, 1)\n",
    "look_back_num = 12\n",
    "forecast_num = 48\n",
    "\n",
    "all_predictions = pd.DataFrame(columns = [\"datetime\", \"location\", \"y_test\", \"y_pred\"])\n",
    "for loc in location_lst:\n",
    "    print(loc)\n",
    "    minmax_scaler, regressor, history, lin_reg = train_model(loc, look_back_num=look_back_num, epochs=300, batch_size=512)\n",
    "    X_test_true, X_test_pred, y_pred, y_test, date_miss = predict_power(loc, look_back_num=look_back_num, \n",
    "                                                             forecast_num=forecast_num, lstm_regressor=regressor, \n",
    "                                                             lin_reg=lin_reg, minmax_scaler=minmax_scaler)\n",
    "    df = pd.DataFrame(columns = [\"datetime\", \"location\", \"y_test\", \"y_pred\", \"is_missing\"])\n",
    "    df[\"datetime\"] = date_miss['DateTime']\n",
    "    df[\"is_missing\"] = date_miss['is_missing']\n",
    "    df[\"location\"] = loc\n",
    "    df[\"y_test\"] = y_test\n",
    "    df[\"y_pred\"] = y_pred\n",
    "    print(\"MAE of location {i}: \".format(i=loc), np.mean(np.abs(df['y_test'] - df['y_pred'])))\n",
    "\n",
    "    all_predictions = pd.concat([all_predictions, df])"
   ]
  },
  {
   "cell_type": "code",
   "execution_count": 18,
   "metadata": {},
   "outputs": [
    {
     "data": {
      "text/plain": [
       "455.64363979339225"
      ]
     },
     "execution_count": 18,
     "metadata": {},
     "output_type": "execute_result"
    }
   ],
   "source": [
    "mae = np.mean(np.abs(all_predictions['y_test'] - all_predictions['y_pred']))\n",
    "mae"
   ]
  },
  {
   "cell_type": "code",
   "execution_count": 19,
   "metadata": {},
   "outputs": [
    {
     "data": {
      "text/plain": [
       "470.19489577111347"
      ]
     },
     "execution_count": 19,
     "metadata": {},
     "output_type": "execute_result"
    }
   ],
   "source": [
    "no_missing = all_predictions[all_predictions['is_missing'] == 0]\n",
    "mae = np.mean(np.abs(no_missing['y_test'] - no_missing['y_pred']))\n",
    "mae"
   ]
  },
  {
   "cell_type": "code",
   "execution_count": 15,
   "metadata": {
    "collapsed": true
   },
   "outputs": [
    {
     "name": "stdout",
     "output_type": "stream",
     "text": [
      "MAE of location 3:  1590.1381620925763\n"
     ]
    }
   ],
   "source": [
    "## Retrain 3 because it looks weird\n",
    "\n",
    "loc=3\n",
    "minmax_scaler, regressor, history, lin_reg = train_model(loc, look_back_num=look_back_num, epochs=300, batch_size=512)\n",
    "X_test_true, X_test_pred, y_pred, y_test, date_miss = predict_power(loc, look_back_num=look_back_num, \n",
    "                                                         forecast_num=forecast_num, lstm_regressor=regressor, \n",
    "                                                         lin_reg=lin_reg, minmax_scaler=minmax_scaler)\n",
    "df = pd.DataFrame(columns = [\"datetime\", \"location\", \"y_test\", \"y_pred\", \"is_missing\"])\n",
    "df[\"datetime\"] = date_miss['DateTime']\n",
    "df[\"is_missing\"] = date_miss['is_missing']\n",
    "df[\"location\"] = loc\n",
    "df[\"y_test\"] = y_test\n",
    "df[\"y_pred\"] = y_pred\n",
    "print(\"MAE of location {i}: \".format(i=loc), np.mean(np.abs(df['y_test'] - df['y_pred'])))"
   ]
  },
  {
   "cell_type": "code",
   "execution_count": 17,
   "metadata": {},
   "outputs": [],
   "source": [
    "# all_predictions = all_predictions.reset_index(drop=True)\n",
    "all_predictions.loc[all_predictions['location'] == 3, :] = df"
   ]
  },
  {
   "cell_type": "code",
   "execution_count": 144,
   "metadata": {},
   "outputs": [],
   "source": [
    "all_predictions.loc[11767:12858, 'location'] = 12"
   ]
  },
  {
   "cell_type": "code",
   "execution_count": 149,
   "metadata": {},
   "outputs": [
    {
     "data": {
      "text/plain": [
       "432.3412562823701"
      ]
     },
     "execution_count": 149,
     "metadata": {},
     "output_type": "execute_result"
    }
   ],
   "source": [
    "no_missing = all_predictions[all_predictions['is_missing'] == 0]\n",
    "mae = np.mean(np.abs(no_missing['y_test'] - no_missing['y_pred']))\n",
    "mae"
   ]
  },
  {
   "cell_type": "code",
   "execution_count": 150,
   "metadata": {},
   "outputs": [],
   "source": [
    "all_predictions.to_csv(\"output/output_lag1.csv\", index=False)"
   ]
  },
  {
   "cell_type": "code",
   "execution_count": 21,
   "metadata": {},
   "outputs": [
    {
     "data": {
      "text/plain": [
       "<matplotlib.collections.PathCollection at 0x7f49fa4f55e0>"
      ]
     },
     "execution_count": 21,
     "metadata": {},
     "output_type": "execute_result"
    },
    {
     "data": {
      "image/png": "[encoded data removed]",
      "text/plain": [
       "<Figure size 1800x2800 with 1 Axes>"
      ]
     },
     "metadata": {},
     "output_type": "display_data"
    }
   ],
   "source": [
    "plt.figure(figsize=(18, 28))\n",
    "y_ax = no_missing.loc[no_missing['location'] == 2, 'y_pred'] - no_missing.loc[no_missing['location'] == 2, 'y_test'] \n",
    "\n",
    "plt.subplot(6, 1, 1)\n",
    "# plt.plot(np.arange(2000), np.arange(2000))\n",
    "plt.scatter(np.arange(len(y_ax)), y_ax)"
   ]
  },
  {
   "cell_type": "code",
   "execution_count": null,
   "metadata": {},
   "outputs": [
    {
     "data": {
      "image/png": "[encoded data removed]",
      "text/plain": [
       "<Figure size 640x480 with 1 Axes>"
      ]
     },
     "execution_count": 26,
     "metadata": {},
     "output_type": "execute_result"
    },
    {
     "data": {
      "image/png": "[encoded data removed]",
      "text/plain": [
       "<Figure size 640x480 with 1 Axes>"
      ]
     },
     "metadata": {},
     "output_type": "display_data"
    }
   ],
   "source": [
    "# from statsmodels.graphics.tsaplots import plot_acf, plot_pacf\n",
    "\n",
    "# plot_pacf(y_ax, lags=60)"
   ]
  },
  {
   "cell_type": "code",
   "execution_count": 101,
   "metadata": {},
   "outputs": [
    {
     "data": {
      "text/plain": [
       "(576,)"
      ]
     },
     "execution_count": 101,
     "metadata": {},
     "output_type": "execute_result"
    }
   ],
   "source": [
    "no_missing.loc[no_missing['location'] == 5, 'y_test'].shape"
   ]
  },
  {
   "cell_type": "markdown",
   "metadata": {},
   "source": [
    "# Baseline (without windspeed)"
   ]
  },
  {
   "cell_type": "code",
   "execution_count": 7,
   "metadata": {},
   "outputs": [
    {
     "name": "stdout",
     "output_type": "stream",
     "text": [
      "1\n",
      "MAE of location 1:  2565.461643806146\n",
      "2\n",
      "MAE of location 2:  362.86356925642275\n",
      "3\n",
      "MAE of location 3:  1441.455912933955\n",
      "4\n",
      "MAE of location 4:  659.2662560568165\n",
      "5\n",
      "MAE of location 5:  748.7796853483253\n",
      "6\n",
      "MAE of location 6:  562.2626608133307\n",
      "7\n",
      "MAE of location 7:  966.483484117751\n",
      "8\n",
      "MAE of location 8:  161.8023780989333\n",
      "9\n",
      "MAE of location 9:  230.6848413639127\n",
      "10\n",
      "MAE of location 10:  1092.0922996320612\n",
      "11\n",
      "MAE of location 11:  15.014703090918925\n",
      "12\n",
      "MAE of location 12:  510.9939710950664\n",
      "13\n",
      "MAE of location 13:  531.0760744192472\n",
      "14\n",
      "MAE of location 14:  425.99017836995523\n",
      "15\n",
      "MAE of location 15:  553.1719322121623\n",
      "16\n",
      "MAE of location 16:  588.081290298157\n",
      "17\n",
      "MAE of location 17:  473.2310054823779\n"
     ]
    }
   ],
   "source": [
    "location_lst = range(1, 18, 1)\n",
    "look_back_num = 12\n",
    "forecast_num = 48\n",
    "\n",
    "all_predictions = pd.DataFrame(columns = [\"datetime\", \"location\", \"y_test\", \"y_pred\"])\n",
    "for loc in location_lst:\n",
    "    print(loc)\n",
    "    minmax_scaler, regressor, history, lin_reg = train_model(loc, look_back_num=look_back_num, epochs=500, batch_size=512)\n",
    "    X_test_true, X_test_pred, y_pred, y_test, date_miss = predict_power(loc, look_back_num=look_back_num, \n",
    "                                                             forecast_num=forecast_num, lstm_regressor=regressor, \n",
    "                                                             lin_reg=lin_reg, minmax_scaler=minmax_scaler)\n",
    "    df = pd.DataFrame(columns = [\"datetime\", \"location\", \"y_test\", \"y_pred\", \"is_missing\"])\n",
    "    df[\"datetime\"] = date_miss['DateTime']\n",
    "    df[\"is_missing\"] = date_miss['is_missing']\n",
    "    df[\"location\"] = loc\n",
    "    df[\"y_test\"] = y_test\n",
    "    df[\"y_pred\"] = y_pred\n",
    "    print(\"MAE of location {i}: \".format(i=loc), np.mean(np.abs(df['y_test'] - df['y_pred'])))\n",
    "\n",
    "    all_predictions = pd.concat([all_predictions, df])"
   ]
  },
  {
   "cell_type": "code",
   "execution_count": 8,
   "metadata": {},
   "outputs": [
    {
     "data": {
      "text/plain": [
       "764.8591096328307"
      ]
     },
     "execution_count": 8,
     "metadata": {},
     "output_type": "execute_result"
    }
   ],
   "source": [
    "no_missing = all_predictions[all_predictions['is_missing'] == 0]\n",
    "mae = np.mean(np.abs(no_missing['y_test'] - no_missing['y_pred']))\n",
    "mae"
   ]
  },
  {
   "cell_type": "code",
   "execution_count": 9,
   "metadata": {},
   "outputs": [],
   "source": [
    "all_predictions.to_csv(\"output/output_baseline_no_wind.csv\", index=False)"
   ]
  },
  {
   "cell_type": "code",
   "execution_count": 11,
   "metadata": {},
   "outputs": [
    {
     "data": {
      "text/html": [
       "<div>\n",
       "<style scoped>\n",
       "    .dataframe tbody tr th:only-of-type {\n",
       "        vertical-align: middle;\n",
       "    }\n",
       "\n",
       "    .dataframe tbody tr th {\n",
       "        vertical-align: top;\n",
       "    }\n",
       "\n",
       "    .dataframe thead th {\n",
       "        text-align: right;\n",
       "    }\n",
       "</style>\n",
       "<table border=\"1\" class=\"dataframe\">\n",
       "  <thead>\n",
       "    <tr style=\"text-align: right;\">\n",
       "      <th></th>\n",
       "      <th>DateTime</th>\n",
       "      <th>LocationCode</th>\n",
       "      <th>WindSpeed(m/s)</th>\n",
       "      <th>Pressure(hpa)</th>\n",
       "      <th>Temperature(°C)</th>\n",
       "      <th>Humidity(%)</th>\n",
       "      <th>Sunlight(Lux)</th>\n",
       "      <th>Power(mW)</th>\n",
       "    </tr>\n",
       "  </thead>\n",
       "  <tbody>\n",
       "    <tr>\n",
       "      <th>0</th>\n",
       "      <td>2024-01-01 07:00:00</td>\n",
       "      <td>1.0</td>\n",
       "      <td>0.00000</td>\n",
       "      <td>1016.730</td>\n",
       "      <td>17.50</td>\n",
       "      <td>86.99</td>\n",
       "      <td>470.834</td>\n",
       "      <td>0.083</td>\n",
       "    </tr>\n",
       "    <tr>\n",
       "      <th>1</th>\n",
       "      <td>2024-01-01 07:10:00</td>\n",
       "      <td>1.0</td>\n",
       "      <td>0.00000</td>\n",
       "      <td>1016.774</td>\n",
       "      <td>17.57</td>\n",
       "      <td>86.97</td>\n",
       "      <td>659.667</td>\n",
       "      <td>0.139</td>\n",
       "    </tr>\n",
       "    <tr>\n",
       "      <th>2</th>\n",
       "      <td>2024-01-01 07:20:00</td>\n",
       "      <td>1.0</td>\n",
       "      <td>0.68193</td>\n",
       "      <td>1016.922</td>\n",
       "      <td>17.63</td>\n",
       "      <td>86.18</td>\n",
       "      <td>889.666</td>\n",
       "      <td>0.247</td>\n",
       "    </tr>\n",
       "    <tr>\n",
       "      <th>3</th>\n",
       "      <td>2024-01-01 07:30:00</td>\n",
       "      <td>1.0</td>\n",
       "      <td>0.60737</td>\n",
       "      <td>1016.992</td>\n",
       "      <td>17.74</td>\n",
       "      <td>85.41</td>\n",
       "      <td>1263.833</td>\n",
       "      <td>0.447</td>\n",
       "    </tr>\n",
       "    <tr>\n",
       "      <th>4</th>\n",
       "      <td>2024-01-01 07:40:00</td>\n",
       "      <td>1.0</td>\n",
       "      <td>0.00000</td>\n",
       "      <td>1017.094</td>\n",
       "      <td>17.90</td>\n",
       "      <td>85.41</td>\n",
       "      <td>2136.833</td>\n",
       "      <td>1.129</td>\n",
       "    </tr>\n",
       "  </tbody>\n",
       "</table>\n",
       "</div>"
      ],
      "text/plain": [
       "              DateTime  LocationCode  WindSpeed(m/s)  Pressure(hpa)  \\\n",
       "0  2024-01-01 07:00:00           1.0         0.00000       1016.730   \n",
       "1  2024-01-01 07:10:00           1.0         0.00000       1016.774   \n",
       "2  2024-01-01 07:20:00           1.0         0.68193       1016.922   \n",
       "3  2024-01-01 07:30:00           1.0         0.60737       1016.992   \n",
       "4  2024-01-01 07:40:00           1.0         0.00000       1017.094   \n",
       "\n",
       "   Temperature(°C)  Humidity(%)  Sunlight(Lux)  Power(mW)  \n",
       "0            17.50        86.99        470.834      0.083  \n",
       "1            17.57        86.97        659.667      0.139  \n",
       "2            17.63        86.18        889.666      0.247  \n",
       "3            17.74        85.41       1263.833      0.447  \n",
       "4            17.90        85.41       2136.833      1.129  "
      ]
     },
     "execution_count": 11,
     "metadata": {},
     "output_type": "execute_result"
    }
   ],
   "source": [
    "train_file = os.path.join(os.getcwd(), \"avg_data_10min_wh/loc_{i}/fold_4/train.csv\".format(i=1))\n",
    "train_set = pd.read_csv(train_file, encoding='utf-8')\n",
    "train_set.head()"
   ]
  },
  {
   "cell_type": "code",
   "execution_count": 13,
   "metadata": {},
   "outputs": [
    {
     "data": {
      "text/plain": [
       "0        2024-01-01 07:00:00\n",
       "1        2024-01-01 07:10:00\n",
       "2        2024-01-01 07:20:00\n",
       "3        2024-01-01 07:30:00\n",
       "4        2024-01-01 07:40:00\n",
       "                ...         \n",
       "10315    2024-06-20 16:10:00\n",
       "10316    2024-06-20 16:20:00\n",
       "10317    2024-06-20 16:30:00\n",
       "10318    2024-06-20 16:40:00\n",
       "10319    2024-06-20 16:50:00\n",
       "Name: DateTime, Length: 10320, dtype: object"
      ]
     },
     "execution_count": 13,
     "metadata": {},
     "output_type": "execute_result"
    }
   ],
   "source": [
    "train_set['DateTime']"
   ]
  }
 ],
 "metadata": {
  "kernelspec": {
   "display_name": "aicup",
   "language": "python",
   "name": "python3"
  },
  "language_info": {
   "codemirror_mode": {
    "name": "ipython",
    "version": 3
   },
   "file_extension": ".py",
   "mimetype": "text/x-python",
   "name": "python",
   "nbconvert_exporter": "python",
   "pygments_lexer": "ipython3",
   "version": "3.9.20"
  },
  "toc": {
   "base_numbering": 1,
   "nav_menu": {},
   "number_sections": true,
   "sideBar": true,
   "skip_h1_title": false,
   "title_cell": "Table of Contents",
   "title_sidebar": "Contents",
   "toc_cell": false,
   "toc_position": {},
   "toc_section_display": true,
   "toc_window_display": false
  }
 },
 "nbformat": 4,
 "nbformat_minor": 2
}
